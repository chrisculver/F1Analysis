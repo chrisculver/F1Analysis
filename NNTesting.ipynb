{
 "cells": [
  {
   "cell_type": "code",
   "execution_count": 16,
   "id": "22d299bd-95c1-4861-a86e-471d36963fd5",
   "metadata": {},
   "outputs": [],
   "source": [
    "import fastf1 as ff1\n",
    "from fastf1 import plotting\n",
    "from matplotlib import pyplot as plt\n",
    "import os\n",
    "\n",
    "plotting.setup_mpl()\n",
    "\n",
    "f1DataCache=os.path.join(os.path.expanduser('~'),'Downloads','F1DataCache')\n",
    "ff1.Cache.enable_cache(f1DataCache)"
   ]
  },
  {
   "cell_type": "code",
   "execution_count": 17,
   "id": "deb5eb00-c5c0-4b94-a159-6e04f22ffdd3",
   "metadata": {},
   "outputs": [],
   "source": [
    "import logging\n",
    "logger=logging.getLogger()\n",
    "logger.setLevel(logging.WARNING)"
   ]
  },
  {
   "cell_type": "code",
   "execution_count": 35,
   "id": "14470b0e-5f55-495c-a197-c80d498fb207",
   "metadata": {},
   "outputs": [],
   "source": [
    "weekend=ff1.get_event(2022, 'Bahrain')\n",
    "fp1=weekend.get_practice(1)\n",
    "race=weekend.get_race()"
   ]
  },
  {
   "cell_type": "code",
   "execution_count": 39,
   "id": "766e5cdd-f348-49c9-af44-f4860d154fa8",
   "metadata": {},
   "outputs": [
    {
     "name": "stderr",
     "output_type": "stream",
     "text": [
      "/home/chris/anaconda3/envs/MachineLearning/lib/python3.10/site-packages/fastf1/core.py:1415: FutureWarning: In a future version, object-dtype columns with all-bool values will not be included in reductions with bool_only=True. Explicitly cast to bool dtype instead.\n",
      "  df = pd.concat([df, result], sort=False)\n",
      "/home/chris/anaconda3/envs/MachineLearning/lib/python3.10/site-packages/fastf1/core.py:1415: FutureWarning: In a future version, object-dtype columns with all-bool values will not be included in reductions with bool_only=True. Explicitly cast to bool dtype instead.\n",
      "  df = pd.concat([df, result], sort=False)\n",
      "/home/chris/anaconda3/envs/MachineLearning/lib/python3.10/site-packages/fastf1/core.py:1415: FutureWarning: In a future version, object-dtype columns with all-bool values will not be included in reductions with bool_only=True. Explicitly cast to bool dtype instead.\n",
      "  df = pd.concat([df, result], sort=False)\n",
      "/home/chris/anaconda3/envs/MachineLearning/lib/python3.10/site-packages/fastf1/core.py:1415: FutureWarning: In a future version, object-dtype columns with all-bool values will not be included in reductions with bool_only=True. Explicitly cast to bool dtype instead.\n",
      "  df = pd.concat([df, result], sort=False)\n",
      "/home/chris/anaconda3/envs/MachineLearning/lib/python3.10/site-packages/fastf1/core.py:1415: FutureWarning: In a future version, object-dtype columns with all-bool values will not be included in reductions with bool_only=True. Explicitly cast to bool dtype instead.\n",
      "  df = pd.concat([df, result], sort=False)\n",
      "/home/chris/anaconda3/envs/MachineLearning/lib/python3.10/site-packages/fastf1/core.py:1492: FutureWarning: iteritems is deprecated and will be removed in a future version. Use .items instead.\n",
      "  for key, value in row.iteritems():\n",
      "/home/chris/anaconda3/envs/MachineLearning/lib/python3.10/site-packages/fastf1/core.py:1415: FutureWarning: In a future version, object-dtype columns with all-bool values will not be included in reductions with bool_only=True. Explicitly cast to bool dtype instead.\n",
      "  df = pd.concat([df, result], sort=False)\n",
      "/home/chris/anaconda3/envs/MachineLearning/lib/python3.10/site-packages/fastf1/core.py:1415: FutureWarning: In a future version, object-dtype columns with all-bool values will not be included in reductions with bool_only=True. Explicitly cast to bool dtype instead.\n",
      "  df = pd.concat([df, result], sort=False)\n",
      "/home/chris/anaconda3/envs/MachineLearning/lib/python3.10/site-packages/fastf1/core.py:1492: FutureWarning: iteritems is deprecated and will be removed in a future version. Use .items instead.\n",
      "  for key, value in row.iteritems():\n",
      "/home/chris/anaconda3/envs/MachineLearning/lib/python3.10/site-packages/fastf1/core.py:1415: FutureWarning: In a future version, object-dtype columns with all-bool values will not be included in reductions with bool_only=True. Explicitly cast to bool dtype instead.\n",
      "  df = pd.concat([df, result], sort=False)\n",
      "/home/chris/anaconda3/envs/MachineLearning/lib/python3.10/site-packages/fastf1/core.py:1415: FutureWarning: In a future version, object-dtype columns with all-bool values will not be included in reductions with bool_only=True. Explicitly cast to bool dtype instead.\n",
      "  df = pd.concat([df, result], sort=False)\n",
      "/home/chris/anaconda3/envs/MachineLearning/lib/python3.10/site-packages/fastf1/core.py:1415: FutureWarning: In a future version, object-dtype columns with all-bool values will not be included in reductions with bool_only=True. Explicitly cast to bool dtype instead.\n",
      "  df = pd.concat([df, result], sort=False)\n",
      "/home/chris/anaconda3/envs/MachineLearning/lib/python3.10/site-packages/fastf1/core.py:1492: FutureWarning: iteritems is deprecated and will be removed in a future version. Use .items instead.\n",
      "  for key, value in row.iteritems():\n",
      "/home/chris/anaconda3/envs/MachineLearning/lib/python3.10/site-packages/fastf1/core.py:1415: FutureWarning: In a future version, object-dtype columns with all-bool values will not be included in reductions with bool_only=True. Explicitly cast to bool dtype instead.\n",
      "  df = pd.concat([df, result], sort=False)\n",
      "/home/chris/anaconda3/envs/MachineLearning/lib/python3.10/site-packages/fastf1/core.py:1415: FutureWarning: In a future version, object-dtype columns with all-bool values will not be included in reductions with bool_only=True. Explicitly cast to bool dtype instead.\n",
      "  df = pd.concat([df, result], sort=False)\n",
      "/home/chris/anaconda3/envs/MachineLearning/lib/python3.10/site-packages/fastf1/core.py:1415: FutureWarning: In a future version, object-dtype columns with all-bool values will not be included in reductions with bool_only=True. Explicitly cast to bool dtype instead.\n",
      "  df = pd.concat([df, result], sort=False)\n",
      "/home/chris/anaconda3/envs/MachineLearning/lib/python3.10/site-packages/fastf1/core.py:1415: FutureWarning: In a future version, object-dtype columns with all-bool values will not be included in reductions with bool_only=True. Explicitly cast to bool dtype instead.\n",
      "  df = pd.concat([df, result], sort=False)\n",
      "/home/chris/anaconda3/envs/MachineLearning/lib/python3.10/site-packages/fastf1/core.py:1492: FutureWarning: iteritems is deprecated and will be removed in a future version. Use .items instead.\n",
      "  for key, value in row.iteritems():\n",
      "/home/chris/anaconda3/envs/MachineLearning/lib/python3.10/site-packages/fastf1/core.py:1415: FutureWarning: In a future version, object-dtype columns with all-bool values will not be included in reductions with bool_only=True. Explicitly cast to bool dtype instead.\n",
      "  df = pd.concat([df, result], sort=False)\n",
      "/home/chris/anaconda3/envs/MachineLearning/lib/python3.10/site-packages/fastf1/core.py:1415: FutureWarning: In a future version, object-dtype columns with all-bool values will not be included in reductions with bool_only=True. Explicitly cast to bool dtype instead.\n",
      "  df = pd.concat([df, result], sort=False)\n",
      "/home/chris/anaconda3/envs/MachineLearning/lib/python3.10/site-packages/fastf1/core.py:1415: FutureWarning: In a future version, object-dtype columns with all-bool values will not be included in reductions with bool_only=True. Explicitly cast to bool dtype instead.\n",
      "  df = pd.concat([df, result], sort=False)\n",
      "/home/chris/anaconda3/envs/MachineLearning/lib/python3.10/site-packages/fastf1/core.py:1415: FutureWarning: In a future version, object-dtype columns with all-bool values will not be included in reductions with bool_only=True. Explicitly cast to bool dtype instead.\n",
      "  df = pd.concat([df, result], sort=False)\n",
      "/home/chris/anaconda3/envs/MachineLearning/lib/python3.10/site-packages/fastf1/core.py:1415: FutureWarning: In a future version, object-dtype columns with all-bool values will not be included in reductions with bool_only=True. Explicitly cast to bool dtype instead.\n",
      "  df = pd.concat([df, result], sort=False)\n",
      "/home/chris/anaconda3/envs/MachineLearning/lib/python3.10/site-packages/fastf1/core.py:1415: FutureWarning: In a future version, object-dtype columns with all-bool values will not be included in reductions with bool_only=True. Explicitly cast to bool dtype instead.\n",
      "  df = pd.concat([df, result], sort=False)\n",
      "/home/chris/anaconda3/envs/MachineLearning/lib/python3.10/site-packages/fastf1/core.py:1415: FutureWarning: In a future version, object-dtype columns with all-bool values will not be included in reductions with bool_only=True. Explicitly cast to bool dtype instead.\n",
      "  df = pd.concat([df, result], sort=False)\n",
      "/home/chris/anaconda3/envs/MachineLearning/lib/python3.10/site-packages/fastf1/core.py:1492: FutureWarning: iteritems is deprecated and will be removed in a future version. Use .items instead.\n",
      "  for key, value in row.iteritems():\n",
      "/home/chris/anaconda3/envs/MachineLearning/lib/python3.10/site-packages/fastf1/core.py:1415: FutureWarning: In a future version, object-dtype columns with all-bool values will not be included in reductions with bool_only=True. Explicitly cast to bool dtype instead.\n",
      "  df = pd.concat([df, result], sort=False)\n",
      "/home/chris/anaconda3/envs/MachineLearning/lib/python3.10/site-packages/fastf1/core.py:1415: FutureWarning: In a future version, object-dtype columns with all-bool values will not be included in reductions with bool_only=True. Explicitly cast to bool dtype instead.\n",
      "  df = pd.concat([df, result], sort=False)\n",
      "/home/chris/anaconda3/envs/MachineLearning/lib/python3.10/site-packages/fastf1/core.py:1492: FutureWarning: iteritems is deprecated and will be removed in a future version. Use .items instead.\n",
      "  for key, value in row.iteritems():\n",
      "/home/chris/anaconda3/envs/MachineLearning/lib/python3.10/site-packages/fastf1/core.py:1415: FutureWarning: In a future version, object-dtype columns with all-bool values will not be included in reductions with bool_only=True. Explicitly cast to bool dtype instead.\n",
      "  df = pd.concat([df, result], sort=False)\n",
      "/home/chris/anaconda3/envs/MachineLearning/lib/python3.10/site-packages/fastf1/core.py:1415: FutureWarning: In a future version, object-dtype columns with all-bool values will not be included in reductions with bool_only=True. Explicitly cast to bool dtype instead.\n",
      "  df = pd.concat([df, result], sort=False)\n",
      "/home/chris/anaconda3/envs/MachineLearning/lib/python3.10/site-packages/fastf1/core.py:1415: FutureWarning: In a future version, object-dtype columns with all-bool values will not be included in reductions with bool_only=True. Explicitly cast to bool dtype instead.\n",
      "  df = pd.concat([df, result], sort=False)\n",
      "/home/chris/anaconda3/envs/MachineLearning/lib/python3.10/site-packages/fastf1/core.py:1415: FutureWarning: In a future version, object-dtype columns with all-bool values will not be included in reductions with bool_only=True. Explicitly cast to bool dtype instead.\n",
      "  df = pd.concat([df, result], sort=False)\n",
      "/home/chris/anaconda3/envs/MachineLearning/lib/python3.10/site-packages/fastf1/core.py:1415: FutureWarning: In a future version, object-dtype columns with all-bool values will not be included in reductions with bool_only=True. Explicitly cast to bool dtype instead.\n",
      "  df = pd.concat([df, result], sort=False)\n",
      "/home/chris/anaconda3/envs/MachineLearning/lib/python3.10/site-packages/fastf1/core.py:1415: FutureWarning: In a future version, object-dtype columns with all-bool values will not be included in reductions with bool_only=True. Explicitly cast to bool dtype instead.\n",
      "  df = pd.concat([df, result], sort=False)\n",
      "/home/chris/anaconda3/envs/MachineLearning/lib/python3.10/site-packages/fastf1/core.py:1492: FutureWarning: iteritems is deprecated and will be removed in a future version. Use .items instead.\n",
      "  for key, value in row.iteritems():\n",
      "/home/chris/anaconda3/envs/MachineLearning/lib/python3.10/site-packages/fastf1/core.py:1415: FutureWarning: In a future version, object-dtype columns with all-bool values will not be included in reductions with bool_only=True. Explicitly cast to bool dtype instead.\n",
      "  df = pd.concat([df, result], sort=False)\n",
      "/home/chris/anaconda3/envs/MachineLearning/lib/python3.10/site-packages/fastf1/core.py:1492: FutureWarning: iteritems is deprecated and will be removed in a future version. Use .items instead.\n",
      "  for key, value in row.iteritems():\n",
      "/home/chris/anaconda3/envs/MachineLearning/lib/python3.10/site-packages/fastf1/core.py:1415: FutureWarning: In a future version, object-dtype columns with all-bool values will not be included in reductions with bool_only=True. Explicitly cast to bool dtype instead.\n",
      "  df = pd.concat([df, result], sort=False)\n",
      "/home/chris/anaconda3/envs/MachineLearning/lib/python3.10/site-packages/fastf1/core.py:1492: FutureWarning: iteritems is deprecated and will be removed in a future version. Use .items instead.\n",
      "  for key, value in row.iteritems():\n",
      "/home/chris/anaconda3/envs/MachineLearning/lib/python3.10/site-packages/fastf1/core.py:1415: FutureWarning: In a future version, object-dtype columns with all-bool values will not be included in reductions with bool_only=True. Explicitly cast to bool dtype instead.\n",
      "  df = pd.concat([df, result], sort=False)\n",
      "/home/chris/anaconda3/envs/MachineLearning/lib/python3.10/site-packages/fastf1/core.py:1492: FutureWarning: iteritems is deprecated and will be removed in a future version. Use .items instead.\n",
      "  for key, value in row.iteritems():\n",
      "/home/chris/anaconda3/envs/MachineLearning/lib/python3.10/site-packages/fastf1/core.py:1415: FutureWarning: In a future version, object-dtype columns with all-bool values will not be included in reductions with bool_only=True. Explicitly cast to bool dtype instead.\n",
      "  df = pd.concat([df, result], sort=False)\n",
      "/home/chris/anaconda3/envs/MachineLearning/lib/python3.10/site-packages/fastf1/core.py:1415: FutureWarning: In a future version, object-dtype columns with all-bool values will not be included in reductions with bool_only=True. Explicitly cast to bool dtype instead.\n",
      "  df = pd.concat([df, result], sort=False)\n",
      "/home/chris/anaconda3/envs/MachineLearning/lib/python3.10/site-packages/fastf1/core.py:1492: FutureWarning: iteritems is deprecated and will be removed in a future version. Use .items instead.\n",
      "  for key, value in row.iteritems():\n",
      "/home/chris/anaconda3/envs/MachineLearning/lib/python3.10/site-packages/fastf1/core.py:1415: FutureWarning: In a future version, object-dtype columns with all-bool values will not be included in reductions with bool_only=True. Explicitly cast to bool dtype instead.\n",
      "  df = pd.concat([df, result], sort=False)\n",
      "/home/chris/anaconda3/envs/MachineLearning/lib/python3.10/site-packages/fastf1/core.py:1415: FutureWarning: In a future version, object-dtype columns with all-bool values will not be included in reductions with bool_only=True. Explicitly cast to bool dtype instead.\n",
      "  df = pd.concat([df, result], sort=False)\n",
      "/home/chris/anaconda3/envs/MachineLearning/lib/python3.10/site-packages/fastf1/core.py:1415: FutureWarning: In a future version, object-dtype columns with all-bool values will not be included in reductions with bool_only=True. Explicitly cast to bool dtype instead.\n",
      "  df = pd.concat([df, result], sort=False)\n",
      "/home/chris/anaconda3/envs/MachineLearning/lib/python3.10/site-packages/fastf1/core.py:1492: FutureWarning: iteritems is deprecated and will be removed in a future version. Use .items instead.\n",
      "  for key, value in row.iteritems():\n",
      "/home/chris/anaconda3/envs/MachineLearning/lib/python3.10/site-packages/fastf1/core.py:1415: FutureWarning: In a future version, object-dtype columns with all-bool values will not be included in reductions with bool_only=True. Explicitly cast to bool dtype instead.\n",
      "  df = pd.concat([df, result], sort=False)\n"
     ]
    }
   ],
   "source": [
    "fp1.load();\n",
    "race.load(laps=True);"
   ]
  },
  {
   "cell_type": "code",
   "execution_count": 14,
   "id": "0ff2963e-573e-4466-a75c-a839d69cedac",
   "metadata": {},
   "outputs": [
    {
     "name": "stdout",
     "output_type": "stream",
     "text": [
      "{'1': 'VER', '55': 'SAI', '47': 'MSC', '44': 'HAM', '31': 'OCO', '27': 'HUL', '24': 'ZHO', '23': 'ALB', '22': 'TSU', '20': 'MAG', '18': 'STR', '16': 'LEC', '14': 'ALO', '11': 'PER', '10': 'GAS', '6': 'LAT', '4': 'NOR', '3': 'RIC', '63': 'RUS', '77': 'BOT'}\n"
     ]
    }
   ],
   "source": [
    "import pandas as pd\n",
    "\n",
    "driverTLA = {}\n",
    "\n",
    "for driver in fp1.drivers:\n",
    "    TLA=ff1.api.driver_info(fp1.api_path)[driver]['Tla']\n",
    "    driverTLA[driver]=TLA\n",
    "print(driverTLA)"
   ]
  },
  {
   "cell_type": "code",
   "execution_count": 33,
   "id": "f7c33364-ebe6-4960-8392-fa6b95d1e1b6",
   "metadata": {},
   "outputs": [],
   "source": [
    "tst=fp1.laps[fp1.laps['DriverNumber'].isin(['1'])]\n",
    "tst=tst[tst['IsAccurate']==True]\n",
    "tst=tst[[\"LapTime\", \"Sector1Time\", \"Sector2Time\", \"Sector3Time\", \"Compound\", \"TyreLife\", \"Stint\", \"TrackStatus\"]]"
   ]
  },
  {
   "cell_type": "code",
   "execution_count": 68,
   "id": "da5c46fb",
   "metadata": {},
   "outputs": [
    {
     "data": {
      "text/plain": [
       "(15, 8)"
      ]
     },
     "execution_count": 68,
     "metadata": {},
     "output_type": "execute_result"
    }
   ],
   "source": [
    "tst.shape"
   ]
  },
  {
   "cell_type": "code",
   "execution_count": 57,
   "id": "873622f8",
   "metadata": {},
   "outputs": [
    {
     "data": {
      "text/plain": [
       "Index(['LapTime', 'Sector1Time', 'Sector2Time', 'Sector3Time', 'Compound',\n",
       "       'TyreLife', 'Stint', 'TrackStatus'],\n",
       "      dtype='object')"
      ]
     },
     "execution_count": 57,
     "metadata": {},
     "output_type": "execute_result"
    }
   ],
   "source": [
    "tst.columns"
   ]
  },
  {
   "cell_type": "code",
   "execution_count": 51,
   "id": "98194e96",
   "metadata": {},
   "outputs": [
    {
     "data": {
      "text/plain": [
       "97.907325"
      ]
     },
     "execution_count": 51,
     "metadata": {},
     "output_type": "execute_result"
    }
   ],
   "source": [
    "raceLaps=race.laps[race.laps[\"DriverNumber\"]==\"1\"]\n",
    "raceLaps=raceLaps[raceLaps[\"IsAccurate\"]==True]\n",
    "raceLaps[\"LapTime\"].mean().total_seconds()"
   ]
  },
  {
   "cell_type": "code",
   "execution_count": 63,
   "id": "0a657b9e",
   "metadata": {},
   "outputs": [],
   "source": [
    "import tensorflow as tf\n",
    "import numpy as np\n",
    "\n",
    "ConvertCompound={'INTERMEDIATE':-1, 'WET': -2, 'HARD':2, 'MEDIUM':1, 'SOFT':0,}"
   ]
  },
  {
   "cell_type": "code",
   "execution_count": 71,
   "id": "1e28ef5f",
   "metadata": {},
   "outputs": [],
   "source": [
    "xData = np.zeros(shape=(tst.shape[0], 8), dtype=float)\n",
    "yData=np.zeros(shape=(tst.shape[0],1), dtype=float)\n",
    "\n",
    "idx=0\n",
    "for __,row in tst.iterrows():\n",
    "    lap=row[\"LapTime\"].total_seconds()\n",
    "    s1=row[\"Sector1Time\"].total_seconds()\n",
    "    s2=row[\"Sector2Time\"].total_seconds()\n",
    "    s3=row[\"Sector3Time\"].total_seconds()\n",
    "    cmpd=ConvertCompound[row[\"Compound\"]]\n",
    "    xData[idx]=np.array([lap,s1,s2,s3,cmpd,row[\"TyreLife\"],row[\"Stint\"],row[\"TrackStatus\"]])\n",
    "    yData[idx]=np.array([raceLaps[\"LapTime\"].mean().total_seconds()])\n",
    "    idx+=1\n",
    "    "
   ]
  },
  {
   "cell_type": "code",
   "execution_count": 84,
   "id": "ec862bad",
   "metadata": {},
   "outputs": [
    {
     "name": "stdout",
     "output_type": "stream",
     "text": [
      "1/1 [==============================] - 1s 855ms/step - loss: 126.8014\n"
     ]
    },
    {
     "data": {
      "text/plain": [
       "<keras.callbacks.History at 0x7fc3e01cbfa0>"
      ]
     },
     "execution_count": 84,
     "metadata": {},
     "output_type": "execute_result"
    }
   ],
   "source": [
    "model = tf.keras.Sequential()\n",
    "model.add(tf.keras.layers.Dense(32, input_shape=(8,), activation=None))\n",
    "model.add(tf.keras.layers.Dense(32, activation=None))\n",
    "model.add(tf.keras.layers.Dense(1, activation=None))\n",
    "model.compile(optimizer='adam', loss='mean_absolute_error')\n",
    "\n",
    "model.fit(x=xData, y=yData)"
   ]
  },
  {
   "cell_type": "code",
   "execution_count": 85,
   "id": "7f2fe28e",
   "metadata": {},
   "outputs": [
    {
     "data": {
      "text/plain": [
       "array([97.907325])"
      ]
     },
     "execution_count": 85,
     "metadata": {},
     "output_type": "execute_result"
    }
   ],
   "source": [
    "yData[0]"
   ]
  },
  {
   "cell_type": "code",
   "execution_count": 86,
   "id": "b48c40b3",
   "metadata": {},
   "outputs": [
    {
     "name": "stdout",
     "output_type": "stream",
     "text": [
      "1/1 [==============================] - 0s 86ms/step\n"
     ]
    },
    {
     "data": {
      "text/plain": [
       "array([[-17.5514  ],\n",
       "       [-18.026726],\n",
       "       [-25.125816],\n",
       "       [-18.298943],\n",
       "       [-19.967398]], dtype=float32)"
      ]
     },
     "execution_count": 86,
     "metadata": {},
     "output_type": "execute_result"
    }
   ],
   "source": [
    "model.predict(xData[0:5])"
   ]
  },
  {
   "cell_type": "code",
   "execution_count": null,
   "id": "1cb0e8e5",
   "metadata": {},
   "outputs": [],
   "source": []
  }
 ],
 "metadata": {
  "kernelspec": {
   "display_name": "MachineLearning",
   "language": "python",
   "name": "python3"
  },
  "language_info": {
   "codemirror_mode": {
    "name": "ipython",
    "version": 3
   },
   "file_extension": ".py",
   "mimetype": "text/x-python",
   "name": "python",
   "nbconvert_exporter": "python",
   "pygments_lexer": "ipython3",
   "version": "3.10.8"
  }
 },
 "nbformat": 4,
 "nbformat_minor": 5
}
